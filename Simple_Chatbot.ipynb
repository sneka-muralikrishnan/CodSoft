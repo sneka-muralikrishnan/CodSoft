{
  "nbformat": 4,
  "nbformat_minor": 0,
  "metadata": {
    "colab": {
      "provenance": []
    },
    "kernelspec": {
      "name": "python3",
      "display_name": "Python 3"
    },
    "language_info": {
      "name": "python"
    }
  },
  "cells": [
    {
      "cell_type": "code",
      "execution_count": 3,
      "metadata": {
        "colab": {
          "base_uri": "https://localhost:8080/"
        },
        "id": "CTE-pQZ3-HCs",
        "outputId": "a992f5b1-e47d-4d60-8a7f-9b862c09759f"
      },
      "outputs": [
        {
          "output_type": "stream",
          "name": "stdout",
          "text": [
            "Hello! I am a chatbot. How can I assist you today?\n",
            "You: 2+6\n",
            "Chatbot: The result of adding 2.0 and 6.0 is 8.0.\n",
            "You: 8-5\n",
            "Chatbot: The result of subtracting 5.0 from 8.0 is 3.0.\n",
            "You: exit\n",
            "Chatbot: Goodbye! Have a great day!\n"
          ]
        }
      ],
      "source": [
        "import random\n",
        "import re\n",
        "\n",
        "# Define responses for different types of inputs\n",
        "responses = {\n",
        "    \"greeting\": [\"Hello! How can I help you?\", \"Hi there! What can I assist you with today?\", \"Hey! What's up?\"],\n",
        "    \"farewell\": [\"Goodbye! Have a great day!\", \"Bye! Come back soon.\", \"See you later!\"],\n",
        "    \"thanks\": [\"You're welcome!\", \"No problem!\", \"My pleasure!\"],\n",
        "    \"about\": [\"I am a chatbot created to assist with various tasks.\", \"I'm here to help you with anything you need.\"],\n",
        "    \"how_are_you\": [\"I'm just a program, but I'm here and ready to assist you!\", \"I'm doing well, thank you for asking!\"],\n",
        "    \"what_can_you_do\": [\"I can provide information, answer questions, perform arithmetic operations, and assist you with various tasks.\"],\n",
        "    \"addition\": [\"Sure! The sum of {} and {} is {}.\", \"The result of adding {} and {} is {}.\"],\n",
        "    \"subtraction\": [\"The result of subtracting {} from {} is {}.\"],\n",
        "    \"multiplication\": [\"The product of {} and {} is {}.\"],\n",
        "    \"division\": [\"{} divided by {} is {}.\"],\n",
        "    \"default\": [\"I'm sorry, I didn't quite understand that.\", \"Could you please rephrase that?\"]\n",
        "}\n",
        "\n",
        "# Function to perform arithmetic operations\n",
        "def perform_operation(user_input):\n",
        "    try:\n",
        "        # Regular expression to match arithmetic operations\n",
        "        pattern = r'(\\d+)\\s*(\\+|\\-|\\*|\\/)\\s*(\\d+)'\n",
        "        match = re.search(pattern, user_input)\n",
        "\n",
        "        if match:\n",
        "            num1 = float(match.group(1))\n",
        "            operator = match.group(2)\n",
        "            num2 = float(match.group(3))\n",
        "\n",
        "            if operator == '+':\n",
        "                return random.choice(responses[\"addition\"]).format(num1, num2, num1 + num2)\n",
        "            elif operator == '-':\n",
        "                return random.choice(responses[\"subtraction\"]).format(num2, num1, num1 - num2)\n",
        "            elif operator == '*':\n",
        "                return random.choice(responses[\"multiplication\"]).format(num1, num2, num1 * num2)\n",
        "            elif operator == '/':\n",
        "                if num2 == 0:\n",
        "                    return \"Oops! Division by zero is not allowed.\"\n",
        "                return random.choice(responses[\"division\"]).format(num1, num2, num1 / num2)\n",
        "        else:\n",
        "            return None\n",
        "    except ValueError:\n",
        "        return None\n",
        "\n",
        "# Function to generate a response\n",
        "def get_response(user_input):\n",
        "    user_input = user_input.lower()\n",
        "\n",
        "    if any(greeting in user_input for greeting in [\"hello\", \"hi\", \"hey\"]):\n",
        "        return random.choice(responses[\"greeting\"])\n",
        "    elif any(thanks in user_input for thanks in [\"thank\", \"thanks\"]):\n",
        "        return random.choice(responses[\"thanks\"])\n",
        "    elif any(bye in user_input for bye in [\"bye\", \"goodbye\"]):\n",
        "        return random.choice(responses[\"farewell\"])\n",
        "    elif any(how_are_you in user_input for how_are_you in [\"how are you\", \"how are things\"]):\n",
        "        return random.choice(responses[\"how_are_you\"])\n",
        "    elif \"about\" in user_input:\n",
        "        return random.choice(responses[\"about\"])\n",
        "    elif any(can_do in user_input for can_do in [\"what can you do\", \"what are your abilities\", \"what can you help with\"]):\n",
        "        return random.choice(responses[\"what_can_you_do\"])\n",
        "    else:\n",
        "        operation_result = perform_operation(user_input)\n",
        "        if operation_result:\n",
        "            return operation_result\n",
        "        else:\n",
        "            return random.choice(responses[\"default\"])\n",
        "\n",
        "# Main function to run the chatbot\n",
        "def chatbot():\n",
        "    print(\"Hello! I am a chatbot. How can I assist you today?\")\n",
        "\n",
        "    while True:\n",
        "        user_input = input(\"You: \")\n",
        "\n",
        "        if user_input.lower() == 'exit':\n",
        "            print(\"Chatbot: Goodbye! Have a great day!\")\n",
        "            break\n",
        "\n",
        "        response = get_response(user_input)\n",
        "        print(\"Chatbot:\", response)\n",
        "\n",
        "# Run the chatbot\n",
        "chatbot()\n"
      ]
    }
  ]
}