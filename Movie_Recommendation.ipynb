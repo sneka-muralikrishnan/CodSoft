{
  "nbformat": 4,
  "nbformat_minor": 0,
  "metadata": {
    "colab": {
      "provenance": []
    },
    "kernelspec": {
      "name": "python3",
      "display_name": "Python 3"
    },
    "language_info": {
      "name": "python"
    }
  },
  "cells": [
    {
      "cell_type": "code",
      "execution_count": 2,
      "metadata": {
        "colab": {
          "base_uri": "https://localhost:8080/"
        },
        "id": "dJQKqV2__E_h",
        "outputId": "9c34e0da-faa3-4e38-f790-07d200fc1521"
      },
      "outputs": [
        {
          "output_type": "stream",
          "name": "stdout",
          "text": [
            "Requirement already satisfied: scikit-surprise in /usr/local/lib/python3.10/dist-packages (1.1.4)\n",
            "Requirement already satisfied: joblib>=1.2.0 in /usr/local/lib/python3.10/dist-packages (from scikit-surprise) (1.4.2)\n",
            "Requirement already satisfied: numpy>=1.19.5 in /usr/local/lib/python3.10/dist-packages (from scikit-surprise) (1.25.2)\n",
            "Requirement already satisfied: scipy>=1.6.0 in /usr/local/lib/python3.10/dist-packages (from scikit-surprise) (1.11.4)\n"
          ]
        }
      ],
      "source": [
        "# Install Surprise library\n",
        "!pip install scikit-surprise\n"
      ]
    },
    {
      "cell_type": "code",
      "source": [
        "import pandas as pd\n",
        "from surprise import Dataset, Reader, SVD\n",
        "from surprise.model_selection import train_test_split\n",
        "from surprise import accuracy\n",
        "\n",
        "# Load data (MovieLens dataset example)\n",
        "data_url = 'https://raw.githubusercontent.com/susanli2016/Machine-Learning-with-Python/master/movielens_data/ratings.csv'\n",
        "data = pd.read_csv(data_url)\n",
        "\n",
        "# Prepare data for Surprise library\n",
        "reader = Reader(rating_scale=(1, 5))\n",
        "data = Dataset.load_from_df(data[['userId', 'movieId', 'rating']], reader)\n",
        "\n",
        "# Split data into training and test set\n",
        "trainset, testset = train_test_split(data, test_size=0.25)\n",
        "\n",
        "# Build the collaborative filtering model (SVD)\n",
        "model = SVD()\n",
        "model.fit(trainset)\n",
        "\n",
        "# Generate predictions for test set\n",
        "predictions = model.test(testset)\n",
        "\n",
        "# Evaluate model performance\n",
        "accuracy.rmse(predictions)\n",
        "\n",
        "# Function to recommend movies for a user\n",
        "# Function to recommend movies for a user\n",
        "def recommend_movies(user_id, num_recommendations=5):\n",
        "    user_movies = data.df[data.df['userId'] == user_id]\n",
        "    user_unseen_movies = data.df[~data.df['movieId'].isin(user_movies['movieId'])]['movieId'].unique()\n",
        "\n",
        "    predictions = []\n",
        "    for movie_id in user_unseen_movies:\n",
        "        prediction = model.predict(user_id, movie_id)\n",
        "        predictions.append({'movieId': prediction.iid, 'predicted_rating': prediction.est})\n",
        "\n",
        "    predictions.sort(key=lambda x: x['predicted_rating'], reverse=True)\n",
        "    top_predictions = predictions[:num_recommendations]\n",
        "\n",
        "    top_movie_ids = [pred['movieId'] for pred in top_predictions]\n",
        "\n",
        "    # Fetch movie titles based on 'movieId' (adjust as per your dataset columns)\n",
        "    top_movies = data.df[data.df['movieId'].isin(top_movie_ids)]['movieId'].unique()\n",
        "\n",
        "    return top_movies\n",
        "\n",
        "# Example usage: Recommend movies for user id 1\n",
        "user_id = 2\n",
        "recommended_movies = recommend_movies(user_id, num_recommendations=5)\n",
        "print(f\"Top 5 recommended movies for user {user_id}:\")\n",
        "for idx, movie_id in enumerate(recommended_movies, start=1):\n",
        "    # Fetch movie title based on 'movieId' (adjust as per your dataset columns)\n",
        "    movie_title = data.df[data.df['movieId'] == movie_id]['movieId'].iloc[0]  # Example: fetch movieId\n",
        "    print(f\"{idx}. MovieId: {movie_id} (Title: {movie_title})\")\n"
      ],
      "metadata": {
        "colab": {
          "base_uri": "https://localhost:8080/"
        },
        "id": "qGu6bUGpBmwI",
        "outputId": "27a3d5bc-49c5-44a0-f70d-fb834dfbfa68"
      },
      "execution_count": 5,
      "outputs": [
        {
          "output_type": "stream",
          "name": "stdout",
          "text": [
            "RMSE: 0.8991\n",
            "Top 5 recommended movies for user 2:\n",
            "1. MovieId: 913 (Title: 913)\n",
            "2. MovieId: 2064 (Title: 2064)\n",
            "3. MovieId: 1221 (Title: 1221)\n",
            "4. MovieId: 904 (Title: 904)\n",
            "5. MovieId: 926 (Title: 926)\n"
          ]
        }
      ]
    }
  ]
}